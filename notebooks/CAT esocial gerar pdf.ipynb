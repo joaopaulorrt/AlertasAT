{
 "cells": [
  {
   "cell_type": "code",
   "execution_count": 1,
   "metadata": {},
   "outputs": [],
   "source": [
    "# Bibliotecas públicas\n",
    "import warnings\n",
    "warnings.simplefilter(action='ignore', category=FutureWarning)\n",
    "\n",
    "import numpy as np\n",
    "import pandas as pd\n",
    "import os\n",
    "import pyodbc\n",
    "import csv\n",
    "import functools\n",
    "from typing import List"
   ]
  },
  {
   "cell_type": "markdown",
   "metadata": {},
   "source": [
    "# Extração"
   ]
  },
  {
   "cell_type": "code",
   "execution_count": 24,
   "metadata": {},
   "outputs": [
    {
     "name": "stderr",
     "output_type": "stream",
     "text": [
      "c:\\Users\\joao.reis\\Anaconda3\\lib\\site-packages\\pandas\\io\\sql.py:761: UserWarning: pandas only support SQLAlchemy connectable(engine/connection) ordatabase string URI or sqlite3 DBAPI2 connectionother DBAPI2 objects are not tested, please consider using SQLAlchemy\n",
      "  warnings.warn(\n"
     ]
    }
   ],
   "source": [
    "query = f\"\"\"\n",
    "\n",
    "    SELECT top 100     \n",
    "    FROM [DBCAT].[dbo].[TBCAT_eSocial]\n",
    "    \n",
    "    \"\"\"\n",
    "    \n",
    "connection = pyodbc.connect('Driver={SQL Server};Server=Marfim;Database=DBCAT;')\n",
    "df = pd.read_sql_query(query, connection)"
   ]
  },
  {
   "cell_type": "markdown",
   "metadata": {},
   "source": [
    "# Tratamento"
   ]
  },
  {
   "cell_type": "code",
   "execution_count": 25,
   "metadata": {},
   "outputs": [],
   "source": [
    "# Converte tipos\n",
    "df.vrsalfx = df.vrsalfx.astype('float')\n",
    "df['durtrat'] = df['durtrat'].astype(int)\n",
    "\n",
    "date_cols = ['dtadm', 'dtnascto', 'dtacid', 'dtobito', 'dtatendimento']\n",
    "for col in date_cols:\n",
    "    df[col] = pd.to_datetime(df[col], errors='coerce')\n",
    "\n",
    "# Cria colunas novas\n",
    "df['idade_DTAcidente'] = ((df.dtacid - df.dtnascto) / np.timedelta64(1, 'Y')).round(0)\n",
    "df['DTEmissaoCAT'] = pd.to_datetime(df.meta_row_key.str[:8], errors='coerce')\n",
    "df['CDEmitenteCAT'] = '1'\n",
    "df['NRCAT'] = df['meta_nr_recibo']\n",
    "\n",
    "# Remove espaços em branco de colunas de texto\n",
    "df = df.apply(lambda x: x.str.strip() if x.dtype == \"object\" else x)\n",
    "\n",
    "# Formata strings de horas\n",
    "cols_horas = ['hracid', 'hrstrabantesacid', 'hratendimento']\n",
    "for col in cols_horas:\n",
    "    df[col] = df[col].apply(lambda x: x[:2] + ':' + x[2:] if not pd.isna(x) else np.NAN)\n",
    "\n",
    "# Formata strings de datas\n",
    "for col in date_cols:\n",
    "    df[col] = df[col].dt.strftime('%d/%m/%Y')"
   ]
  },
  {
   "cell_type": "markdown",
   "metadata": {},
   "source": [
    "# Identificação de registro raiz em caso de reaberturas / comunicações de óbito"
   ]
  },
  {
   "cell_type": "code",
   "execution_count": 26,
   "metadata": {},
   "outputs": [],
   "source": [
    "# df['recibo_anterior'] = df.nrrecibo.combine_first(df.nrRecCatOrig)\n",
    "dict_recibo_anterior = pd.Series(df.nrRecCatOrig.values, index=df.meta_nr_recibo).to_dict()\n",
    "\n",
    "@functools.cache\n",
    "def recibo_raiz(recibo):\n",
    "    if pd.isna(dict_recibo_anterior[recibo]):\n",
    "        return recibo\n",
    "    else:\n",
    "        try:\n",
    "            return recibo_raiz(dict_recibo_anterior[recibo])\n",
    "        except KeyError:\n",
    "            return recibo\n",
    "\n",
    "df['recibo_raiz'] = df.meta_nr_recibo.map(recibo_raiz)"
   ]
  },
  {
   "cell_type": "code",
   "execution_count": 27,
   "metadata": {},
   "outputs": [],
   "source": [
    "# Mantém última CAT enviada, em caso de CATs de reabertura e comunicação de óbito\n",
    "df = (df\n",
    "      .sort_values('meta_nr_recibo', ascending=False)\n",
    "      .groupby('recibo_raiz', dropna=False)\n",
    "      .head(1)\n",
    "      .reset_index()\n",
    "      )"
   ]
  },
  {
   "cell_type": "markdown",
   "metadata": {},
   "source": [
    "# Embelezamento da tabela (insere descrições, renomeia colunas)"
   ]
  },
  {
   "cell_type": "code",
   "execution_count": 55,
   "metadata": {},
   "outputs": [
    {
     "data": {
      "text/plain": [
       "{1: 'CNPJ', 2: 'CPF', 3: 'CAEPF', 4: 'CNO'}"
      ]
     },
     "execution_count": 55,
     "metadata": {},
     "output_type": "execute_result"
    }
   ],
   "source": [
    "cols_to_map  = ['tpacid',\n",
    "                'tplocal_acidente',\n",
    "                'tplograd_local_acidente',\n",
    "                'municipio_local_acidente',\n",
    "                'pais_local_acidente',\n",
    "                'codagntcausador',\n",
    "                'codsitgeradora',\n",
    "                'codparteating',\n",
    "                'lateralidade',\n",
    "                'dsclesao',\n",
    "                'codcid',\n",
    "                'ideoc',\n",
    "                'codcbo',\n",
    "                'grauinstr',\n",
    "                'racacor',\n",
    "                'codcateg',\n",
    "                'codcateg',\n",
    "                'tpinsc',\n",
    "                'localtabgeral_tpinsc',\n",
    "                'cnae_localtabgeral',\n",
    "                'municipio_empregador',\n",
    "                'tpinsc_estab_local_acidente',\n",
    "                'cnae_local_acidente',\n",
    "                'municipio_estab_local_acidente',\n",
    "                'CDEmitenteCAT',\n",
    "                'iniciatcat',\n",
    "                'tpcat',\n",
    "                'indretif',\n",
    "                'procemi',\n",
    "                'inporte']\n",
    "\n",
    "cols_integer_as_index = ['tpinsc', 'grauinstr', 'racacor', 'tpacid', \n",
    "                         'tpcat', 'lateralidade', 'iniciatcat', 'indretif',]\n",
    "\n",
    "\n",
    "for new_col, map_dict in dict_new_columns.items():\n",
    "    col_to_map = map_dict['col']\n",
    "    dict_map = map_dict['map']\n",
    "    df[new_col] = df[col_to_map].map(dict_map)"
   ]
  },
  {
   "cell_type": "code",
   "execution_count": 71,
   "metadata": {},
   "outputs": [
    {
     "data": {
      "text/html": [
       "<div>\n",
       "<style scoped>\n",
       "    .dataframe tbody tr th:only-of-type {\n",
       "        vertical-align: middle;\n",
       "    }\n",
       "\n",
       "    .dataframe tbody tr th {\n",
       "        vertical-align: top;\n",
       "    }\n",
       "\n",
       "    .dataframe thead th {\n",
       "        text-align: right;\n",
       "    }\n",
       "</style>\n",
       "<table border=\"1\" class=\"dataframe\">\n",
       "  <thead>\n",
       "    <tr style=\"text-align: right;\">\n",
       "      <th></th>\n",
       "      <th>CDEmitenteCAT</th>\n",
       "      <th>ds_CDEmitenteCAT</th>\n",
       "    </tr>\n",
       "  </thead>\n",
       "  <tbody>\n",
       "    <tr>\n",
       "      <th>0</th>\n",
       "      <td>1</td>\n",
       "      <td>Empregador</td>\n",
       "    </tr>\n",
       "    <tr>\n",
       "      <th>1</th>\n",
       "      <td>2</td>\n",
       "      <td>Sindicato</td>\n",
       "    </tr>\n",
       "    <tr>\n",
       "      <th>2</th>\n",
       "      <td>3</td>\n",
       "      <td>Médico</td>\n",
       "    </tr>\n",
       "    <tr>\n",
       "      <th>3</th>\n",
       "      <td>4</td>\n",
       "      <td>Segurado/Dependente</td>\n",
       "    </tr>\n",
       "    <tr>\n",
       "      <th>4</th>\n",
       "      <td>5</td>\n",
       "      <td>Autoridade pública</td>\n",
       "    </tr>\n",
       "  </tbody>\n",
       "</table>\n",
       "</div>"
      ],
      "text/plain": [
       "  CDEmitenteCAT     ds_CDEmitenteCAT\n",
       "0             1           Empregador\n",
       "1             2            Sindicato\n",
       "2             3               Médico\n",
       "3             4  Segurado/Dependente\n",
       "4             5   Autoridade pública"
      ]
     },
     "execution_count": 71,
     "metadata": {},
     "output_type": "execute_result"
    }
   ],
   "source": [
    "pd.read_csv('../data/input/aux_tables/CDEmitenteCAT.csv', dtype='object')"
   ]
  },
  {
   "cell_type": "code",
   "execution_count": 3,
   "metadata": {},
   "outputs": [
    {
     "name": "stderr",
     "output_type": "stream",
     "text": [
      "c:\\Users\\joao.reis\\Anaconda3\\lib\\site-packages\\pandas\\io\\sql.py:761: UserWarning: pandas only support SQLAlchemy connectable(engine/connection) ordatabase string URI or sqlite3 DBAPI2 connectionother DBAPI2 objects are not tested, please consider using SQLAlchemy\n",
      "  warnings.warn(\n",
      "c:\\Users\\joao.reis\\Anaconda3\\lib\\site-packages\\pandas\\io\\sql.py:761: UserWarning: pandas only support SQLAlchemy connectable(engine/connection) ordatabase string URI or sqlite3 DBAPI2 connectionother DBAPI2 objects are not tested, please consider using SQLAlchemy\n",
      "  warnings.warn(\n",
      "c:\\Users\\joao.reis\\Anaconda3\\lib\\site-packages\\pandas\\io\\sql.py:761: UserWarning: pandas only support SQLAlchemy connectable(engine/connection) ordatabase string URI or sqlite3 DBAPI2 connectionother DBAPI2 objects are not tested, please consider using SQLAlchemy\n",
      "  warnings.warn(\n",
      "c:\\Users\\joao.reis\\Anaconda3\\lib\\site-packages\\pandas\\io\\sql.py:761: UserWarning: pandas only support SQLAlchemy connectable(engine/connection) ordatabase string URI or sqlite3 DBAPI2 connectionother DBAPI2 objects are not tested, please consider using SQLAlchemy\n",
      "  warnings.warn(\n",
      "c:\\Users\\joao.reis\\Anaconda3\\lib\\site-packages\\pandas\\io\\sql.py:761: UserWarning: pandas only support SQLAlchemy connectable(engine/connection) ordatabase string URI or sqlite3 DBAPI2 connectionother DBAPI2 objects are not tested, please consider using SQLAlchemy\n",
      "  warnings.warn(\n"
     ]
    }
   ],
   "source": [
    "# Tabelas de referência\n",
    "tb_tpinsc = {1: 'CNPJ', \n",
    "             2: 'CPF', \n",
    "             3: 'CAEPF', \n",
    "             4: 'CNO',}\n",
    "\n",
    "tb_grauinstr = {1:'Analfabeto, inclusive o que, embora tenha recebido instrução, não se alfabetizou',\n",
    "                2:'Até o 5º ano incompleto do ensino fundamental (antiga 4ª série) ou que se tenha alfabetizado sem ter frequentado escola regular',\n",
    "                3:'5º ano completo do ensino fundamental',\n",
    "                4:'Do 6º ao 9º ano do ensino fundamental incompleto (antiga 5ª a 8ª série)',\n",
    "                5:'Ensino fundamental completo',\n",
    "                6:'Ensino médio incompleto',\n",
    "                7:'Ensino médio completo',\n",
    "                8:'Educação superior incompleta',\n",
    "                9:'Educação superior completa',\n",
    "                10: 'Pós-graduação completa',\n",
    "                11: 'Mestrado completo',\n",
    "                12: 'Doutorado completo'}\n",
    "\n",
    "tb_racacor = {1: 'Branca',\n",
    "              2: 'Preta',\n",
    "              3: 'Parda',\n",
    "              4: 'Amarela',\n",
    "              5: 'Indígena',\n",
    "              6: 'Não informado'}\n",
    "\n",
    "tb_tpacid = {1: 'Típico',\n",
    "             2: 'Doença',\n",
    "             3: 'Trajeto'}\n",
    "\n",
    "tb_tpcat = {1: 'Inicial',\n",
    "            2: 'Reabertura',\n",
    "            3: 'Comunicação de óbito'}\n",
    "\n",
    "tb_tplocal_acidente = {'1': 'Estabelecimento do empregador no Brasil',\n",
    "                       '2': 'Estabelecimento do empregador no exterior',\n",
    "                       '3': 'Estabelecimento de terceiros onde o empregador presta serviços',\n",
    "                       '4': 'Via pública',\n",
    "                       '5': 'Área rural',\n",
    "                       '6': 'Embarcação',\n",
    "                       '9': 'Outros'}\n",
    "\n",
    "tb_lateralidade = {0: 'Não aplicável',\n",
    "                   1: 'Esquerda',\n",
    "                   2: 'Direita',\n",
    "                   3: 'Ambas'}\n",
    "\n",
    "tb_ideOC = {'1': 'Conselho Regional de Medicina - CRM',\n",
    "            '2': 'Conselho Regional de Odontologia - CRO',\n",
    "            '3': 'Registro do Ministério da Saúde - RMS'}\n",
    "\n",
    "tb_iniciatCAT = {1: 'Empregador',\n",
    "                 2: 'Ordem judicial',\n",
    "                 3: 'Determinação de órgão fiscalizador'}\n",
    "\n",
    "tb_indretif = {1: 'Original',\n",
    "               2: 'Retificação'}\n",
    "\n",
    "tb_CDEmitenteCAT = {'1': 'Empregador',\n",
    "                    '2': 'Sindicato',\n",
    "                    '3': 'Médico',\n",
    "                    '4': 'Segurado/Dependente',\n",
    "                    '5': 'Autoridade pública'}\n",
    "\n",
    "tb_procemi = {'1': 'Aplicativo do empregador',\n",
    "              '2': 'Aplicativo governamental - Simplificado Pessoa Física',\n",
    "              '3': 'Aplicativo governamental - Web Geral',\n",
    "              '4': 'Aplicativo governamental - Simplificado Pessoa Jurídica',\n",
    "              '22': 'Aplicativo governamental para dispositivos móveis - Empregador Doméstico'}\n",
    "\n",
    "tb_inporte = {1: 'S'}\n",
    "\n",
    "tb_codcateg = pd.read_csv('codcateg.csv', dtype='object').set_index('CÓDIGO').to_dict()['DESCRIÇÃO']\n",
    "tb_codcateg_grupo = pd.read_csv('codcateg.csv', dtype='object').set_index('CÓDIGO').to_dict()['GRUPO']\n",
    "tb_pais = pd.read_csv('esocial_paises.csv').set_index('cd_pais').to_dict()['pais']\n",
    "tb_tplograd = pd.read_csv('esocial_tplogradouro.csv').set_index('CDTipoLogradouro').to_dict()['TipoLogradouro']\n",
    "tb_cnae = pd.read_csv('cnae.csv', dtype='str', usecols=['CDSubclasse','DSSubclasse']).set_index('CDSubclasse').to_dict()['DSSubclasse']\n",
    "tb_agente_situacao = pd.read_csv('AgenteSituacao.csv', dtype='str', usecols=['CDAgenteSituacao','DSAgenteSituacao']).set_index('CDAgenteSituacao').to_dict()['DSAgenteSituacao']\n",
    "\n",
    "connection = pyodbc.connect('Driver={SQL Server};Server=Marfim;Database=DBCAT;')\n",
    "\n",
    "tb_municipios = pd.read_sql_query('SELECT CDMunicipio, NOMunicipio FROM DBCAT.dbo.TBMunicipio', connection).set_index('CDMunicipio').to_dict()['NOMunicipio']\n",
    "tb_natureza_lesao = pd.read_sql_query('SELECT * FROM DBCAT.dbo.TBNaturezaLesao', connection).set_index('CDNaturezaLesao').to_dict()['DSNaturezaLesao']\n",
    "tb_parte_atingida = pd.read_sql_query('SELECT * FROM DBCAT.dbo.TBParteAtingida', connection).set_index('CDParteAtingida').to_dict()['DSParteAtingida']\n",
    "tb_cbo = pd.read_sql_query('SELECT NRCBO, DSCBO FROM DBCAT.dbo.TBCBO', connection).set_index('NRCBO').to_dict()['DSCBO']\n",
    "tb_cid = pd.read_sql_query('SELECT CDCID, DSCID FROM DBCAT.dbo.TBCID UNION ALL SELECT CDCategoria, DSCategoria FROM DBCAT.dbo.TBCID', connection).drop_duplicates().set_index('CDCID').to_dict()['DSCID']"
   ]
  },
  {
   "cell_type": "code",
   "execution_count": 4,
   "metadata": {},
   "outputs": [],
   "source": [
    "dict_new_columns = {'ds_tpacid': {'col': 'tpacid', 'map': tb_tpacid},\n",
    "                    'ds_tplocal_acidente': {'col': 'tplocal_acidente', 'map': tb_tplocal_acidente},\n",
    "                    'ds_tplograd_local_acidente': {'col': 'tplograd_local_acidente', 'map': tb_tplograd},\n",
    "                    'ds_municipio_local_acidente': {'col': 'municipio_local_acidente', 'map': tb_municipios},\n",
    "                    'ds_pais_local_acidente': {'col': 'pais_local_acidente', 'map': tb_pais},\n",
    "                    'ds_codagntcausador': {'col': 'codagntcausador', 'map': tb_agente_situacao},\n",
    "                    'ds_codsitgeradora': {'col': 'codsitgeradora', 'map': tb_agente_situacao},\n",
    "                    'ds_codparteating': {'col': 'codparteating', 'map': tb_parte_atingida},\n",
    "                    'ds_lateralidade': {'col': 'lateralidade', 'map': tb_lateralidade},\n",
    "                    'ds_dsclesao': {'col': 'dsclesao', 'map': tb_natureza_lesao},\n",
    "                    'ds_codcid': {'col': 'codcid', 'map': tb_cid},\n",
    "                    'ds_ideoc': {'col': 'ideoc', 'map': tb_ideOC},\n",
    "                    'ds_codcbo': {'col': 'codcbo', 'map': tb_cbo},\n",
    "                    'ds_grauinstr': {'col': 'grauinstr', 'map': tb_grauinstr},\n",
    "                    'ds_racacor': {'col': 'racacor', 'map': tb_racacor},\n",
    "                    'ds_codcateg': {'col': 'codcateg', 'map': tb_codcateg},\n",
    "                    'ds_codcateg_grupo': {'col': 'codcateg', 'map': tb_codcateg_grupo},\n",
    "                    'ds_tpinsc': {'col': 'tpinsc', 'map': tb_tpinsc},\n",
    "                    'ds_localtabgeral_tpinsc': {'col': 'localtabgeral_tpinsc', 'map': tb_tpinsc},\n",
    "                    'ds_cnae_localtabgeral': {'col': 'cnae_localtabgeral', 'map': tb_cnae},\n",
    "                    'ds_municipio_empregador': {'col': 'municipio_empregador', 'map': tb_municipios},\n",
    "                    'ds_tpinsc_estab_local_acidente': {'col': 'tpinsc_estab_local_acidente', 'map': tb_tpinsc},\n",
    "                    'ds_cnae_local_acidente': {'col': 'cnae_local_acidente', 'map': tb_cnae},\n",
    "                    'ds_municipio_estab_local_acidente': {'col': 'municipio_estab_local_acidente', 'map': tb_municipios},\n",
    "                    'ds_CDEmitenteCAT': {'col': 'CDEmitenteCAT', 'map': tb_CDEmitenteCAT},\n",
    "                    'ds_iniciatcat': {'col': 'iniciatcat', 'map': tb_iniciatCAT},\n",
    "                    'ds_tpcat': {'col': 'tpcat', 'map': tb_tpcat},\n",
    "                    'ds_indretif': {'col': 'indretif', 'map': tb_indretif},\n",
    "                    'ds_procemi': {'col': 'procemi', 'map': tb_procemi},\n",
    "                    'ds_inporte': {'col': 'inporte', 'map': tb_inporte}\n",
    "                    }\n"
   ]
  },
  {
   "cell_type": "code",
   "execution_count": 69,
   "metadata": {},
   "outputs": [
    {
     "data": {
      "text/plain": [
       "['tpacid',\n",
       " 'tplocal_acidente',\n",
       " 'tplograd_local_acidente',\n",
       " 'municipio_local_acidente',\n",
       " 'pais_local_acidente',\n",
       " 'codagntcausador',\n",
       " 'codsitgeradora',\n",
       " 'codparteating',\n",
       " 'lateralidade',\n",
       " 'dsclesao',\n",
       " 'codcid',\n",
       " 'ideoc',\n",
       " 'codcbo',\n",
       " 'grauinstr',\n",
       " 'racacor',\n",
       " 'codcateg',\n",
       " 'codcateg',\n",
       " 'tpinsc',\n",
       " 'localtabgeral_tpinsc',\n",
       " 'cnae_localtabgeral',\n",
       " 'municipio_empregador',\n",
       " 'tpinsc_estab_local_acidente',\n",
       " 'cnae_local_acidente',\n",
       " 'municipio_estab_local_acidente',\n",
       " 'CDEmitenteCAT',\n",
       " 'iniciatcat',\n",
       " 'tpcat',\n",
       " 'indretif',\n",
       " 'procemi',\n",
       " 'inporte']"
      ]
     },
     "execution_count": 69,
     "metadata": {},
     "output_type": "execute_result"
    }
   ],
   "source": [
    "[map_dict['col'] for new_col, map_dict in dict_new_columns.items()]"
   ]
  },
  {
   "cell_type": "code",
   "execution_count": 65,
   "metadata": {},
   "outputs": [
    {
     "data": {
      "text/plain": [
       "{'ds_tpacid': 'tpacid',\n",
       " 'ds_tplocal_acidente': 'tplocal_acidente',\n",
       " 'ds_tplograd_local_acidente': 'tplograd_local_acidente',\n",
       " 'ds_municipio_local_acidente': 'municipio_local_acidente',\n",
       " 'ds_pais_local_acidente': 'pais_local_acidente',\n",
       " 'ds_codagntcausador': 'codagntcausador',\n",
       " 'ds_codsitgeradora': 'codsitgeradora',\n",
       " 'ds_codparteating': 'codparteating',\n",
       " 'ds_lateralidade': 'lateralidade',\n",
       " 'ds_dsclesao': 'dsclesao',\n",
       " 'ds_codcid': 'codcid',\n",
       " 'ds_ideoc': 'ideoc',\n",
       " 'ds_codcbo': 'codcbo',\n",
       " 'ds_grauinstr': 'grauinstr',\n",
       " 'ds_racacor': 'racacor',\n",
       " 'ds_codcateg': 'codcateg',\n",
       " 'ds_codcateg_grupo': 'codcateg',\n",
       " 'ds_tpinsc': 'tpinsc',\n",
       " 'ds_localtabgeral_tpinsc': 'localtabgeral_tpinsc',\n",
       " 'ds_cnae_localtabgeral': 'cnae_localtabgeral',\n",
       " 'ds_municipio_empregador': 'municipio_empregador',\n",
       " 'ds_tpinsc_estab_local_acidente': 'tpinsc_estab_local_acidente',\n",
       " 'ds_cnae_local_acidente': 'cnae_local_acidente',\n",
       " 'ds_municipio_estab_local_acidente': 'municipio_estab_local_acidente',\n",
       " 'ds_CDEmitenteCAT': 'CDEmitenteCAT',\n",
       " 'ds_iniciatcat': 'iniciatcat',\n",
       " 'ds_tpcat': 'tpcat',\n",
       " 'ds_indretif': 'indretif',\n",
       " 'ds_procemi': 'procemi',\n",
       " 'ds_inporte': 'inporte'}"
      ]
     },
     "execution_count": 65,
     "metadata": {},
     "output_type": "execute_result"
    }
   ],
   "source": [
    "{new_col: map_dict['col'] for new_col, map_dict in dict_new_columns.items()}"
   ]
  },
  {
   "cell_type": "code",
   "execution_count": 58,
   "metadata": {},
   "outputs": [],
   "source": [
    "import csv\n",
    "for new_col, map_dict in dict_new_columns.items():\n",
    "    table = pd.DataFrame(map_dict['map'] .items(), columns=[map_dict['col'],new_col])\n",
    "    table_name = map_dict[\"col\"]\n",
    "    table.to_csv(f'{table_name}.csv', quoting=csv.QUOTE_NONNUMERIC, index=False)"
   ]
  },
  {
   "cell_type": "code",
   "execution_count": null,
   "metadata": {},
   "outputs": [],
   "source": [
    "#TODO adicionar UORG\n",
    "for new_col, map_dict in dict_new_columns.items():\n",
    "    col_to_map = map_dict['col']\n",
    "    dict_map = map_dict['map']\n",
    "    df[new_col] = df[col_to_map].map(dict_map)"
   ]
  },
  {
   "cell_type": "markdown",
   "metadata": {},
   "source": [
    "# Exportação"
   ]
  },
  {
   "cell_type": "code",
   "execution_count": 20,
   "metadata": {},
   "outputs": [],
   "source": [
    "import os\n",
    "import jinja2\n",
    "from jinja2 import Environment, Template\n",
    "import pdfkit\n",
    "import pandas as pd\n",
    "import numpy as np\n",
    "from datetime import date\n",
    "from flask import Flask, render_template\n",
    "\n",
    "app = Flask(__name__)\n",
    "\n",
    "def render_html(row):\n",
    "    template_file = \"cat_html/cat.html\"\n",
    "    \n",
    "    with open(template_file, 'r', encoding='utf-8') as f:\n",
    "        template = Template(f.read())\n",
    "    \n",
    "    series = row[1].fillna('N/A')\n",
    "    series.idade_DTAcidente = int(series.idade_DTAcidente) if pd.notna(series.idade_DTAcidente) else 'N/A'\n",
    "\n",
    "    output_text = template.render({col:series[col] for col in df.columns})\n",
    "\n",
    "    html_path = f'{series.meta_nr_recibo}.html'\n",
    "    \n",
    "    with open(html_path, 'w') as file:\n",
    "        file.write(output_text) "
   ]
  },
  {
   "cell_type": "code",
   "execution_count": 21,
   "metadata": {},
   "outputs": [],
   "source": [
    "os.add_dll_directory(r\"C:/Program Files/GTK3-Runtime Win64/bin\")\n",
    "import weasyprint\n",
    "\n",
    "for row in df.iterrows():\n",
    "    render_html(row)\n",
    "    \n",
    "    recibo = row[1].meta_nr_recibo\n",
    "    weasyprint.HTML(f\"{recibo}.html\").write_pdf(f\"{recibo}.pdf\")"
   ]
  },
  {
   "cell_type": "markdown",
   "metadata": {},
   "source": [
    "# E-mail compilado"
   ]
  },
  {
   "cell_type": "code",
   "execution_count": 72,
   "metadata": {},
   "outputs": [
    {
     "data": {
      "text/plain": [
       "Index(['index', 'tpinsc', 'nrinsc', 'localtabgeral_tpinsc',\n",
       "       'localtabgeral_nrinsc', 'inporte', 'cnae_localtabgeral', 'razao_social',\n",
       "       'municipio_empregador', 'sguf_empregador',\n",
       "       ...\n",
       "       'ds_municipio_empregador', 'ds_tpinsc_estab_local_acidente',\n",
       "       'ds_cnae_local_acidente', 'ds_municipio_estab_local_acidente',\n",
       "       'ds_CDEmitenteCAT', 'ds_iniciatcat', 'ds_tpcat', 'ds_indretif',\n",
       "       'ds_procemi', 'ds_inporte'],\n",
       "      dtype='object', length=109)"
      ]
     },
     "execution_count": 72,
     "metadata": {},
     "output_type": "execute_result"
    }
   ],
   "source": [
    "df_teste."
   ]
  },
  {
   "cell_type": "code",
   "execution_count": 73,
   "metadata": {},
   "outputs": [],
   "source": [
    "df_teste = df[df.sguf_local_acidente == 'MG']\n",
    "html_table = df_teste[['dtacid','indcatobito', 'nmtrab', 'nrinsc', 'razao_social']].to_html()"
   ]
  },
  {
   "cell_type": "code",
   "execution_count": 80,
   "metadata": {},
   "outputs": [],
   "source": [
    "import os\n",
    "import time\n",
    "from os.path import basename\n",
    "from datetime import datetime\n",
    "import email, smtplib, ssl\n",
    "from email import encoders\n",
    "from email.mime.base import MIMEBase\n",
    "from email.mime.text import MIMEText\n",
    "from email.mime.image import MIMEImage\n",
    "from email.mime.multipart import MIMEMultipart\n",
    "from email.mime.application import MIMEApplication\n",
    "from jinja2 import Environment, Template\n",
    "import pandas as pd\n",
    "\n",
    "# Servidor SMTP\n",
    "smtp_server = 'smtp.office365.com'\n",
    "port = 587\n",
    "\n",
    "# Usuário de autenticação\n",
    "auth_user = 'joao.reis@economia.gov.br'\n",
    "password = 'Pjp072022'\n",
    "\n",
    "# Remetente\n",
    "sender_email = 'cgfip.dsst@economia.gov.br'\n",
    "\n",
    "# Assunto\n",
    "assunto = \"Alerta de acidente\"\n",
    "\n",
    "# Template html\n",
    "template_path = 'email_html/email.html'"
   ]
  },
  {
   "cell_type": "code",
   "execution_count": null,
   "metadata": {},
   "outputs": [],
   "source": [
    "# Arquivo de log (path)\n",
    "log_file = 'teste.csv'\n",
    "\n",
    "# Cria arquivo de log, se não existir\n",
    "import os\n",
    "\n",
    "if not os.path.exists(log_file):\n",
    "   with open(log_file, mode='w') as csv_file:\n",
    "       csv_file.write('cnpj,razao_social,email,data_envio,status\\n')"
   ]
  },
  {
   "cell_type": "code",
   "execution_count": 91,
   "metadata": {},
   "outputs": [],
   "source": [
    "destinatario = 'joao.reis@economia.gov.br'\n",
    "anexos_path = ['1.1.0000000015462621164.pdf','1.1.0000000015463849777.pdf']"
   ]
  },
  {
   "cell_type": "code",
   "execution_count": 93,
   "metadata": {},
   "outputs": [],
   "source": [
    "# Importa arquivo html\n",
    "with open(template_path, 'r', encoding='utf-8') as f:\n",
    "    html_template = Template(f.read())\n",
    "    \n",
    "# Logo\n",
    "with open('logoSIT.png', 'rb') as img:\n",
    "    logo = MIMEImage(img.read())\n",
    "    \n",
    "# Define the image's ID as referenced above\n",
    "logo.add_header('Content-ID', '<logo>')\n",
    "\n",
    "\n",
    "# if recipient[\"cnpj\"] in notificados:\n",
    "#     continue\n",
    "\n",
    "# Create a secure SSL context\n",
    "context = ssl.create_default_context()\n",
    "\n",
    "#Mescla modelo HTML com textos\n",
    "html_string = html_template.render(email=destinatario,\n",
    "                                    html_table=html_table,)\n",
    "\n",
    "# Create a multipart message\n",
    "message = MIMEMultipart()\n",
    "message[\"Subject\"] = assunto\n",
    "message[\"From\"] = sender_email\n",
    "message[\"To\"] = destinatario\n",
    "message.attach(MIMEText(html_string, \"html\")) \n",
    "message.attach(logo)\n",
    "\n",
    "for anexo_path in anexos_path:\n",
    "    # Add attachment\n",
    "    if os.path.isfile(anexo_path):\n",
    "        with open(anexo_path, \"rb\") as attachment:\n",
    "            anexo = MIMEApplication(attachment.read(), Name=basename(anexo_path))\n",
    "\n",
    "        # After the file is closed\n",
    "        anexo['Content-Disposition'] = f'attachment; filename=\"{basename(anexo_path)}\"'\n",
    "    \n",
    "    if os.path.isfile(anexo_path):\n",
    "        message.attach(anexo)\n",
    "\n",
    "# Try to log in to server, send email and update log file\n",
    "try:\n",
    "    server = smtplib.SMTP(smtp_server,port)\n",
    "    server.ehlo() # Can be omitted\n",
    "    server.starttls(context=context) # Secure the connection\n",
    "    server.ehlo() # Can be omitted\n",
    "    server.login(auth_user, password)\n",
    "    server.sendmail(sender_email, destinatario, message.as_string())\n",
    "    \n",
    "    # with open(log_file,'a') as csv_file:\n",
    "    #     csv_file.write(f'\"{recipient[\"cnpj\"]}\",\"{recipient[\"razao_social\"]}\",\"{recipient[\"email\"]}\",\"{str(datetime.now())}\",\"Enviado\"\\n')\n",
    "\n",
    "except Exception as erro:\n",
    "    print(erro)\n",
    "    \n",
    "    # with open(log_file,'a') as csv_file:\n",
    "    #     csv_file.write(f'\"{recipient[\"cnpj\"]}\",\"{recipient[\"razao_social\"]}\",\"{recipient[\"email\"]}\",\"{str(datetime.now())}\",\"Falhou\"\\n')\n",
    "\n",
    "finally:\n",
    "    server.quit() \n",
    "    time.sleep(10)"
   ]
  }
 ],
 "metadata": {
  "kernelspec": {
   "display_name": "Python 3.9.12 ('base')",
   "language": "python",
   "name": "python3"
  },
  "language_info": {
   "codemirror_mode": {
    "name": "ipython",
    "version": 3
   },
   "file_extension": ".py",
   "mimetype": "text/x-python",
   "name": "python",
   "nbconvert_exporter": "python",
   "pygments_lexer": "ipython3",
   "version": "3.9.12"
  },
  "orig_nbformat": 4,
  "vscode": {
   "interpreter": {
    "hash": "63985c2fecebcfc7b75d007de1ee785c7a987751a7fc8fe3cf66cecec2852107"
   }
  }
 },
 "nbformat": 4,
 "nbformat_minor": 2
}
