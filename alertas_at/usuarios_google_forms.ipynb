{
 "cells": [
  {
   "cell_type": "code",
   "execution_count": 28,
   "metadata": {},
   "outputs": [],
   "source": [
    "import pandas as pd"
   ]
  },
  {
   "cell_type": "code",
   "execution_count": 29,
   "metadata": {},
   "outputs": [],
   "source": [
    "googleSheetId = '1BGNomIEkIgiPaPbMpeCArVCpERKK9TGHYFyT4Mt9grk'\n",
    "worksheetName = 'sheet1'\n",
    "URL = f'https://docs.google.com/spreadsheets/d/{googleSheetId}/gviz/tq?tqx=out:csv&sheet={worksheetName}'\n",
    "inscricoes = pd.read_csv(URL)"
   ]
  },
  {
   "cell_type": "code",
   "execution_count": 30,
   "metadata": {},
   "outputs": [],
   "source": [
    "googleSheetId = '1bNqrMwDAPVNG8YxzEJt6sZNmtO9xEdHjIvDUw8c_oyY'\n",
    "worksheetName = 'sheet1'\n",
    "URL = f'https://docs.google.com/spreadsheets/d/{googleSheetId}/gviz/tq?tqx=out:csv&sheet={worksheetName}'\n",
    "cancelamentos = pd.read_csv(URL)"
   ]
  },
  {
   "cell_type": "code",
   "execution_count": 31,
   "metadata": {},
   "outputs": [],
   "source": [
    "inscricoes.Timestamp = pd.to_datetime(inscricoes.Timestamp)\n",
    "cancelamentos.Timestamp = pd.to_datetime(cancelamentos.Timestamp)"
   ]
  },
  {
   "cell_type": "code",
   "execution_count": 32,
   "metadata": {},
   "outputs": [],
   "source": [
    "ultimo_cancelamento = cancelamentos.sort_values('Timestamp', ascending=False).groupby('E-mail').head(1)"
   ]
  },
  {
   "cell_type": "code",
   "execution_count": 33,
   "metadata": {},
   "outputs": [],
   "source": [
    "compilado = inscricoes.merge(ultimo_cancelamento, \n",
    "                             how='left', \n",
    "                             left_on='Informe seu e-mail institucional', \n",
    "                             right_on='E-mail',\n",
    "                             suffixes=['_incricao', '_cancelamento'])"
   ]
  },
  {
   "cell_type": "code",
   "execution_count": 34,
   "metadata": {},
   "outputs": [
    {
     "data": {
      "text/html": [
       "<div>\n",
       "<style scoped>\n",
       "    .dataframe tbody tr th:only-of-type {\n",
       "        vertical-align: middle;\n",
       "    }\n",
       "\n",
       "    .dataframe tbody tr th {\n",
       "        vertical-align: top;\n",
       "    }\n",
       "\n",
       "    .dataframe thead th {\n",
       "        text-align: right;\n",
       "    }\n",
       "</style>\n",
       "<table border=\"1\" class=\"dataframe\">\n",
       "  <thead>\n",
       "    <tr style=\"text-align: right;\">\n",
       "      <th></th>\n",
       "      <th>Timestamp_incricao</th>\n",
       "      <th>Informe seu e-mail institucional</th>\n",
       "      <th>Sobre quais acidentes deseja ser notificado?</th>\n",
       "      <th>As notificações devem ter qual abrangência geográfica?</th>\n",
       "      <th>Selecione a UF</th>\n",
       "      <th>Selecione a UORG</th>\n",
       "      <th>Timestamp_cancelamento</th>\n",
       "      <th>E-mail</th>\n",
       "    </tr>\n",
       "  </thead>\n",
       "  <tbody>\n",
       "    <tr>\n",
       "      <th>0</th>\n",
       "      <td>2022-07-19 11:40:46</td>\n",
       "      <td>joao.reis@economia.gov.br</td>\n",
       "      <td>Acidentes graves e fatais</td>\n",
       "      <td>Unidade da Federação (ex.: MG)</td>\n",
       "      <td>AC</td>\n",
       "      <td>NaN</td>\n",
       "      <td>2022-07-22 09:23:43</td>\n",
       "      <td>joao.reis@economia.gov.br</td>\n",
       "    </tr>\n",
       "    <tr>\n",
       "      <th>1</th>\n",
       "      <td>2022-07-19 11:41:51</td>\n",
       "      <td>joao.reis@economia.gov.br</td>\n",
       "      <td>Acidentes fatais</td>\n",
       "      <td>Unidade Organizacional (ex.: Gerência de Vargi...</td>\n",
       "      <td>NaN</td>\n",
       "      <td>AM - 025901000 - GRTE/TABATINGA/AM</td>\n",
       "      <td>2022-07-22 09:23:43</td>\n",
       "      <td>joao.reis@economia.gov.br</td>\n",
       "    </tr>\n",
       "    <tr>\n",
       "      <th>2</th>\n",
       "      <td>2022-07-22 09:28:07</td>\n",
       "      <td>joao.reis@economia.gov.br</td>\n",
       "      <td>Acidentes graves e fatais</td>\n",
       "      <td>Unidade da Federação (ex.: MG)</td>\n",
       "      <td>DF</td>\n",
       "      <td>NaN</td>\n",
       "      <td>2022-07-22 09:23:43</td>\n",
       "      <td>joao.reis@economia.gov.br</td>\n",
       "    </tr>\n",
       "    <tr>\n",
       "      <th>3</th>\n",
       "      <td>2022-07-19 11:40:46</td>\n",
       "      <td>joao.reis@economia.gov.br</td>\n",
       "      <td>Acidentes graves e fatais</td>\n",
       "      <td>Unidade da Federação (ex.: MG)</td>\n",
       "      <td>AL</td>\n",
       "      <td>NaN</td>\n",
       "      <td>2022-07-22 09:23:43</td>\n",
       "      <td>joao.reis@economia.gov.br</td>\n",
       "    </tr>\n",
       "  </tbody>\n",
       "</table>\n",
       "</div>"
      ],
      "text/plain": [
       "   Timestamp_incricao Informe seu e-mail institucional  \\\n",
       "0 2022-07-19 11:40:46        joao.reis@economia.gov.br   \n",
       "1 2022-07-19 11:41:51        joao.reis@economia.gov.br   \n",
       "2 2022-07-22 09:28:07        joao.reis@economia.gov.br   \n",
       "3 2022-07-19 11:40:46        joao.reis@economia.gov.br   \n",
       "\n",
       "  Sobre quais acidentes deseja ser notificado?  \\\n",
       "0                    Acidentes graves e fatais   \n",
       "1                             Acidentes fatais   \n",
       "2                    Acidentes graves e fatais   \n",
       "3                    Acidentes graves e fatais   \n",
       "\n",
       "  As notificações devem ter qual abrangência geográfica? Selecione a UF  \\\n",
       "0                     Unidade da Federação (ex.: MG)                 AC   \n",
       "1  Unidade Organizacional (ex.: Gerência de Vargi...                NaN   \n",
       "2                     Unidade da Federação (ex.: MG)                 DF   \n",
       "3                     Unidade da Federação (ex.: MG)                 AL   \n",
       "\n",
       "                     Selecione a UORG Timestamp_cancelamento  \\\n",
       "0                                 NaN    2022-07-22 09:23:43   \n",
       "1  AM - 025901000 - GRTE/TABATINGA/AM    2022-07-22 09:23:43   \n",
       "2                                 NaN    2022-07-22 09:23:43   \n",
       "3                                 NaN    2022-07-22 09:23:43   \n",
       "\n",
       "                      E-mail  \n",
       "0  joao.reis@economia.gov.br  \n",
       "1  joao.reis@economia.gov.br  \n",
       "2  joao.reis@economia.gov.br  \n",
       "3  joao.reis@economia.gov.br  "
      ]
     },
     "execution_count": 34,
     "metadata": {},
     "output_type": "execute_result"
    }
   ],
   "source": [
    "compilado"
   ]
  },
  {
   "cell_type": "code",
   "execution_count": 36,
   "metadata": {},
   "outputs": [],
   "source": [
    "compilado['intervalo'] = compilado.Timestamp_cancelamento - compilado.Timestamp_incricao"
   ]
  },
  {
   "cell_type": "code",
   "execution_count": 40,
   "metadata": {},
   "outputs": [
    {
     "data": {
      "text/html": [
       "<div>\n",
       "<style scoped>\n",
       "    .dataframe tbody tr th:only-of-type {\n",
       "        vertical-align: middle;\n",
       "    }\n",
       "\n",
       "    .dataframe tbody tr th {\n",
       "        vertical-align: top;\n",
       "    }\n",
       "\n",
       "    .dataframe thead th {\n",
       "        text-align: right;\n",
       "    }\n",
       "</style>\n",
       "<table border=\"1\" class=\"dataframe\">\n",
       "  <thead>\n",
       "    <tr style=\"text-align: right;\">\n",
       "      <th></th>\n",
       "      <th>Timestamp_incricao</th>\n",
       "      <th>Informe seu e-mail institucional</th>\n",
       "      <th>Sobre quais acidentes deseja ser notificado?</th>\n",
       "      <th>As notificações devem ter qual abrangência geográfica?</th>\n",
       "      <th>Selecione a UF</th>\n",
       "      <th>Selecione a UORG</th>\n",
       "      <th>Timestamp_cancelamento</th>\n",
       "      <th>E-mail</th>\n",
       "      <th>intervalo</th>\n",
       "    </tr>\n",
       "  </thead>\n",
       "  <tbody>\n",
       "    <tr>\n",
       "      <th>0</th>\n",
       "      <td>2022-07-19 11:40:46</td>\n",
       "      <td>joao.reis@economia.gov.br</td>\n",
       "      <td>Acidentes graves e fatais</td>\n",
       "      <td>Unidade da Federação (ex.: MG)</td>\n",
       "      <td>AC</td>\n",
       "      <td>NaN</td>\n",
       "      <td>2022-07-22 09:23:43</td>\n",
       "      <td>joao.reis@economia.gov.br</td>\n",
       "      <td>2 days 21:42:57</td>\n",
       "    </tr>\n",
       "    <tr>\n",
       "      <th>1</th>\n",
       "      <td>2022-07-19 11:41:51</td>\n",
       "      <td>joao.reis@economia.gov.br</td>\n",
       "      <td>Acidentes fatais</td>\n",
       "      <td>Unidade Organizacional (ex.: Gerência de Vargi...</td>\n",
       "      <td>NaN</td>\n",
       "      <td>AM - 025901000 - GRTE/TABATINGA/AM</td>\n",
       "      <td>2022-07-22 09:23:43</td>\n",
       "      <td>joao.reis@economia.gov.br</td>\n",
       "      <td>2 days 21:41:52</td>\n",
       "    </tr>\n",
       "    <tr>\n",
       "      <th>2</th>\n",
       "      <td>2022-07-22 09:28:07</td>\n",
       "      <td>joao.reis@economia.gov.br</td>\n",
       "      <td>Acidentes graves e fatais</td>\n",
       "      <td>Unidade da Federação (ex.: MG)</td>\n",
       "      <td>DF</td>\n",
       "      <td>NaN</td>\n",
       "      <td>2022-07-22 09:23:43</td>\n",
       "      <td>joao.reis@economia.gov.br</td>\n",
       "      <td>-1 days +23:55:36</td>\n",
       "    </tr>\n",
       "    <tr>\n",
       "      <th>3</th>\n",
       "      <td>2022-07-19 11:40:46</td>\n",
       "      <td>joao.reis@economia.gov.br</td>\n",
       "      <td>Acidentes graves e fatais</td>\n",
       "      <td>Unidade da Federação (ex.: MG)</td>\n",
       "      <td>AL</td>\n",
       "      <td>NaN</td>\n",
       "      <td>2022-07-22 09:23:43</td>\n",
       "      <td>joao.reis@economia.gov.br</td>\n",
       "      <td>2 days 21:42:57</td>\n",
       "    </tr>\n",
       "  </tbody>\n",
       "</table>\n",
       "</div>"
      ],
      "text/plain": [
       "   Timestamp_incricao Informe seu e-mail institucional  \\\n",
       "0 2022-07-19 11:40:46        joao.reis@economia.gov.br   \n",
       "1 2022-07-19 11:41:51        joao.reis@economia.gov.br   \n",
       "2 2022-07-22 09:28:07        joao.reis@economia.gov.br   \n",
       "3 2022-07-19 11:40:46        joao.reis@economia.gov.br   \n",
       "\n",
       "  Sobre quais acidentes deseja ser notificado?  \\\n",
       "0                    Acidentes graves e fatais   \n",
       "1                             Acidentes fatais   \n",
       "2                    Acidentes graves e fatais   \n",
       "3                    Acidentes graves e fatais   \n",
       "\n",
       "  As notificações devem ter qual abrangência geográfica? Selecione a UF  \\\n",
       "0                     Unidade da Federação (ex.: MG)                 AC   \n",
       "1  Unidade Organizacional (ex.: Gerência de Vargi...                NaN   \n",
       "2                     Unidade da Federação (ex.: MG)                 DF   \n",
       "3                     Unidade da Federação (ex.: MG)                 AL   \n",
       "\n",
       "                     Selecione a UORG Timestamp_cancelamento  \\\n",
       "0                                 NaN    2022-07-22 09:23:43   \n",
       "1  AM - 025901000 - GRTE/TABATINGA/AM    2022-07-22 09:23:43   \n",
       "2                                 NaN    2022-07-22 09:23:43   \n",
       "3                                 NaN    2022-07-22 09:23:43   \n",
       "\n",
       "                      E-mail         intervalo  \n",
       "0  joao.reis@economia.gov.br   2 days 21:42:57  \n",
       "1  joao.reis@economia.gov.br   2 days 21:41:52  \n",
       "2  joao.reis@economia.gov.br -1 days +23:55:36  \n",
       "3  joao.reis@economia.gov.br   2 days 21:42:57  "
      ]
     },
     "execution_count": 40,
     "metadata": {},
     "output_type": "execute_result"
    }
   ],
   "source": [
    "compilado"
   ]
  },
  {
   "cell_type": "code",
   "execution_count": 41,
   "metadata": {},
   "outputs": [],
   "source": [
    "from datetime import timedelta\n",
    "compilado['vigente'] = compilado.intervalo < timedelta(microseconds=0)"
   ]
  },
  {
   "cell_type": "code",
   "execution_count": 46,
   "metadata": {},
   "outputs": [
    {
     "data": {
      "text/html": [
       "<div>\n",
       "<style scoped>\n",
       "    .dataframe tbody tr th:only-of-type {\n",
       "        vertical-align: middle;\n",
       "    }\n",
       "\n",
       "    .dataframe tbody tr th {\n",
       "        vertical-align: top;\n",
       "    }\n",
       "\n",
       "    .dataframe thead th {\n",
       "        text-align: right;\n",
       "    }\n",
       "</style>\n",
       "<table border=\"1\" class=\"dataframe\">\n",
       "  <thead>\n",
       "    <tr style=\"text-align: right;\">\n",
       "      <th></th>\n",
       "      <th>Timestamp_incricao</th>\n",
       "      <th>Informe seu e-mail institucional</th>\n",
       "      <th>Sobre quais acidentes deseja ser notificado?</th>\n",
       "      <th>As notificações devem ter qual abrangência geográfica?</th>\n",
       "      <th>Selecione a UF</th>\n",
       "      <th>Selecione a UORG</th>\n",
       "      <th>Timestamp_cancelamento</th>\n",
       "      <th>E-mail</th>\n",
       "      <th>intervalo</th>\n",
       "      <th>vigente</th>\n",
       "    </tr>\n",
       "  </thead>\n",
       "  <tbody>\n",
       "    <tr>\n",
       "      <th>2</th>\n",
       "      <td>2022-07-22 09:28:07</td>\n",
       "      <td>joao.reis@economia.gov.br</td>\n",
       "      <td>Acidentes graves e fatais</td>\n",
       "      <td>Unidade da Federação (ex.: MG)</td>\n",
       "      <td>DF</td>\n",
       "      <td>NaN</td>\n",
       "      <td>2022-07-22 09:23:43</td>\n",
       "      <td>joao.reis@economia.gov.br</td>\n",
       "      <td>-1 days +23:55:36</td>\n",
       "      <td>True</td>\n",
       "    </tr>\n",
       "  </tbody>\n",
       "</table>\n",
       "</div>"
      ],
      "text/plain": [
       "   Timestamp_incricao Informe seu e-mail institucional  \\\n",
       "2 2022-07-22 09:28:07        joao.reis@economia.gov.br   \n",
       "\n",
       "  Sobre quais acidentes deseja ser notificado?  \\\n",
       "2                    Acidentes graves e fatais   \n",
       "\n",
       "  As notificações devem ter qual abrangência geográfica? Selecione a UF  \\\n",
       "2                     Unidade da Federação (ex.: MG)                 DF   \n",
       "\n",
       "  Selecione a UORG Timestamp_cancelamento                     E-mail  \\\n",
       "2              NaN    2022-07-22 09:23:43  joao.reis@economia.gov.br   \n",
       "\n",
       "          intervalo  vigente  \n",
       "2 -1 days +23:55:36     True  "
      ]
     },
     "execution_count": 46,
     "metadata": {},
     "output_type": "execute_result"
    }
   ],
   "source": [
    "compilado[compilado.vigente == True]"
   ]
  }
 ],
 "metadata": {
  "kernelspec": {
   "display_name": "Python 3.9.12 ('base')",
   "language": "python",
   "name": "python3"
  },
  "language_info": {
   "codemirror_mode": {
    "name": "ipython",
    "version": 3
   },
   "file_extension": ".py",
   "mimetype": "text/x-python",
   "name": "python",
   "nbconvert_exporter": "python",
   "pygments_lexer": "ipython3",
   "version": "3.9.12"
  },
  "orig_nbformat": 4,
  "vscode": {
   "interpreter": {
    "hash": "63985c2fecebcfc7b75d007de1ee785c7a987751a7fc8fe3cf66cecec2852107"
   }
  }
 },
 "nbformat": 4,
 "nbformat_minor": 2
}
