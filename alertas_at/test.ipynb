{
 "cells": [
  {
   "cell_type": "code",
   "execution_count": 22,
   "metadata": {},
   "outputs": [],
   "source": [
    "from helpers_gform import lista_usuarios\n",
    "from parameters import ID_GSHEET_INSC, ID_GSHEET_CANCEL\n",
    "import helpers_gform\n",
    "import parameters"
   ]
  },
  {
   "cell_type": "code",
   "execution_count": 166,
   "metadata": {},
   "outputs": [],
   "source": [
    "import csv\n",
    "from datetime import datetime\n",
    "from glob import glob"
   ]
  },
  {
   "cell_type": "code",
   "execution_count": 172,
   "metadata": {},
   "outputs": [
    {
     "data": {
      "text/plain": [
       "'inscritos 2022-07-28 T22.50.34.csv'"
      ]
     },
     "execution_count": 172,
     "metadata": {},
     "output_type": "execute_result"
    }
   ],
   "source": [
    "last_inscritos = sorted(glob('inscritos *.csv'))[-1]"
   ]
  },
  {
   "cell_type": "code",
   "execution_count": 165,
   "metadata": {},
   "outputs": [],
   "source": [
    "df = helpers_gform.import_google_spreadsheet(ID_GSHEET_INSC)\n",
    "agora_str = datetime.now().strftime(\"%Y-%m-%d T%H.%M.%S\")\n",
    "df.to_csv(f'inscritos {agora_str}.csv', index=False, quoting=csv.QUOTE_NONNUMERIC)"
   ]
  },
  {
   "cell_type": "code",
   "execution_count": 139,
   "metadata": {},
   "outputs": [],
   "source": [
    "df_from_csv = pd.read_csv('inscritos.csv')"
   ]
  },
  {
   "cell_type": "code",
   "execution_count": 173,
   "metadata": {},
   "outputs": [],
   "source": [
    "from pandas.util.testing import assert_frame_equal\n",
    "assert_frame_equal(df, df_from_csv, check_dtype=False)"
   ]
  },
  {
   "cell_type": "code",
   "execution_count": 54,
   "metadata": {},
   "outputs": [],
   "source": [
    "inscricoes = lista_usuarios(spreadsheet_id_inscricao=ID_GSHEET_INSC, spreadsheet_id_cancel=ID_GSHEET_CANCEL)"
   ]
  },
  {
   "cell_type": "code",
   "execution_count": 102,
   "metadata": {},
   "outputs": [],
   "source": [
    "df_valid_values = helpers_gform.import_google_spreadsheet(parameters.ID_GSHEET_INSC_DADOS)"
   ]
  },
  {
   "cell_type": "code",
   "execution_count": 124,
   "metadata": {},
   "outputs": [
    {
     "data": {
      "text/plain": [
       "0        111 - Temperatura ambiental alta/baixa\n",
       "1      121 - Contato com temperatura alta/baixa\n",
       "2                  131 - Radiação não ionizante\n",
       "3                      132 - Radiação ionizante\n",
       "4                        141 - Pressão ambiente\n",
       "                         ...                   \n",
       "329                                         NaN\n",
       "330                                         NaN\n",
       "331                                         NaN\n",
       "332                                         NaN\n",
       "333                                         NaN\n",
       "Name: Fatores de risco, Length: 334, dtype: object"
      ]
     },
     "execution_count": 124,
     "metadata": {},
     "output_type": "execute_result"
    }
   ],
   "source": [
    "df_valid_values['Fatores de risco']"
   ]
  },
  {
   "cell_type": "code",
   "execution_count": 121,
   "metadata": {},
   "outputs": [
    {
     "data": {
      "text/plain": [
       "True"
      ]
     },
     "execution_count": 121,
     "metadata": {},
     "output_type": "execute_result"
    }
   ],
   "source": [
    "df_valid_values.UORG.str.contains(r'[0-9]{9}').all()"
   ]
  }
 ],
 "metadata": {
  "kernelspec": {
   "display_name": "Python 3.10.5 ('AlertasAT-G283KqNv')",
   "language": "python",
   "name": "python3"
  },
  "language_info": {
   "codemirror_mode": {
    "name": "ipython",
    "version": 3
   },
   "file_extension": ".py",
   "mimetype": "text/x-python",
   "name": "python",
   "nbconvert_exporter": "python",
   "pygments_lexer": "ipython3",
   "version": "3.10.5"
  },
  "orig_nbformat": 4,
  "vscode": {
   "interpreter": {
    "hash": "594fbb03cb51ed77632b7e9e8b85e76cfdbadcf18b91b11bb59aae6cd1e4ee42"
   }
  }
 },
 "nbformat": 4,
 "nbformat_minor": 2
}
