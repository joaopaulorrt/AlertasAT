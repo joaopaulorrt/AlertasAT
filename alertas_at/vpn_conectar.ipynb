{
 "cells": [
  {
   "cell_type": "code",
   "execution_count": 1,
   "metadata": {},
   "outputs": [
    {
     "name": "stdout",
     "output_type": "stream",
     "text": [
      "Reading configuration file: C:\\Users\\joao.reis\\Pywinauto recorder\\config.ini\n",
      "Window filtering mode: ignore_windows\n",
      "Ignored windows: []\n"
     ]
    }
   ],
   "source": [
    "from pywinauto_recorder.player import *\n",
    "import time"
   ]
  },
  {
   "cell_type": "code",
   "execution_count": 2,
   "metadata": {},
   "outputs": [],
   "source": [
    "VNP_PATH = \"C:\\Program Files\\Fortinet\\FortiClient\\FortiClient.exe\"\n",
    "VNP_PASSWORD = \"Pjp072022\"\n",
    "URL_TEST_CONNECTION = 'https://gitlab.sit.trabalho.gov.br/'"
   ]
  },
  {
   "cell_type": "code",
   "execution_count": 3,
   "metadata": {},
   "outputs": [],
   "source": [
    "def connect_forticlient_vpn():\n",
    "    send_keys(\"{VK_LWIN down}r\"\"{VK_LWIN up}\")\n",
    "\n",
    "    with UIPath(u\"Run||Window\"):\n",
    "        send_keys(\"{VK_CONTROL down}a\"\"{VK_CONTROL up}\"\"{DELETE}\")\n",
    "        send_keys('\"' + VNP_PATH + '\"', pause=0)\n",
    "        send_keys(u\"{ENTER}\")\n",
    "\n",
    "    time.sleep(3)\n",
    "\n",
    "    with UIPath(u\"FortiClient||Pane\"):\n",
    "        click(u\"FortiClient -- Zero Trust Fabric Agent||Document\", duration=-1)\n",
    "        send_keys(u\"{ENTER}\", pause=0) \n",
    "        click(u\"FortiClient -- Zero Trust Fabric Agent||Document\", duration=-1)\n",
    "        send_keys(u\"{TAB}{TAB}{TAB}\", pause=0)\n",
    "        send_keys(VNP_PASSWORD, pause=0)\n",
    "        send_keys(u\"{TAB}{TAB}{ENTER}\", pause=0)\n",
    "        time.sleep(45)"
   ]
  },
  {
   "cell_type": "code",
   "execution_count": 4,
   "metadata": {},
   "outputs": [],
   "source": [
    "def is_vpn_connected():\n",
    "    import requests\n",
    "    from urllib3.exceptions import NewConnectionError\n",
    "\n",
    "    try:\n",
    "        x = requests.get(URL_TEST_CONNECTION)\n",
    "        if x.status_code == 200:\n",
    "            return True\n",
    "        else:\n",
    "            return False\n",
    "        \n",
    "    except requests.exceptions.RequestException as error:\n",
    "        return False"
   ]
  },
  {
   "cell_type": "code",
   "execution_count": 5,
   "metadata": {},
   "outputs": [],
   "source": [
    "max_attempts = 3\n",
    "\n",
    "attempts = 0\n",
    "\n",
    "while True:\n",
    "    try:\n",
    "        if is_vpn_connected():\n",
    "            break\n",
    "        else:          \n",
    "            connect_forticlient_vpn()\n",
    "            assert is_vpn_connected()\n",
    "            break\n",
    "    except AssertionError:\n",
    "        attempts += 1\n",
    "        print(\"Falha ao tentar conectar à VPN\")\n",
    "        if attempts >= max_attempts:\n",
    "            class MyException(Exception):\n",
    "                pass\n",
    "            raise MyException(\"Excedido o número máximo de tentativas de conectar à VPN\")"
   ]
  }
 ],
 "metadata": {
  "kernelspec": {
   "display_name": "Python 3.8.12 ('base')",
   "language": "python",
   "name": "python3"
  },
  "language_info": {
   "codemirror_mode": {
    "name": "ipython",
    "version": 3
   },
   "file_extension": ".py",
   "mimetype": "text/x-python",
   "name": "python",
   "nbconvert_exporter": "python",
   "pygments_lexer": "ipython3",
   "version": "3.9.12"
  },
  "orig_nbformat": 4,
  "vscode": {
   "interpreter": {
    "hash": "63985c2fecebcfc7b75d007de1ee785c7a987751a7fc8fe3cf66cecec2852107"
   }
  }
 },
 "nbformat": 4,
 "nbformat_minor": 2
}
