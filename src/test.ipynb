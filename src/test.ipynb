{
 "cells": [
  {
   "cell_type": "code",
   "execution_count": 1,
   "metadata": {},
   "outputs": [],
   "source": [
    "import pandas as pd\n",
    "\n",
    "pd.set_option('display.max_rows', 800)\n",
    "pd.set_option('display.max_columns', 500)\n",
    "pd.set_option('display.width', 1000)\n",
    "pd.set_option('display.max_colwidth', 150)"
   ]
  },
  {
   "cell_type": "code",
   "execution_count": 2,
   "metadata": {},
   "outputs": [
    {
     "name": "stdout",
     "output_type": "stream",
     "text": [
      "Reading configuration file: C:\\Users\\joao.reis\\Pywinauto recorder\\config.ini\n",
      "Window filtering mode: ignore_windows\n",
      "Ignored windows: []\n"
     ]
    }
   ],
   "source": [
    "import os\n",
    "from functools import reduce, partial\n",
    "from utils import read_yaml\n",
    "from pathlib import Path\n",
    "import usuarios\n",
    "import backup\n",
    "import vpn_connection as vpn\n",
    "import usuarios\n",
    "import acidentes\n",
    "import acidentes_filtrar\n",
    "import email_sender\n",
    "\n",
    "root_dir = Path().resolve().parent\n",
    "\n",
    "# Importa configurações do sistema\n",
    "cfg = read_yaml(root_dir / 'config/config.yaml')\n",
    "secrets = read_yaml(root_dir / 'config/secrets.yaml')\n",
    "codigos_desativados = read_yaml(root_dir / 'config/codigos_desativados_conversao.yaml')\n",
    "fatores_params = read_yaml(root_dir / 'config/fatores_risco_classificacao.yaml')\n",
    "fatores_params_reshaped = acidentes.reshape_fatores_params(fatores_params)\n",
    "\n",
    "# Indica diretórios e arquivos a serem utilizados\n",
    "cat_html_template = Path('../data/input/html_templates/cat.html')\n",
    "alerta_user_html_template = Path('../data/input/html_templates/alerta_usuario.html')\n",
    "logo_sit = Path('../data/input/images/logoSIT.png')\n",
    "logo_saat = Path('../data/input/images/logoSAAT_email.png')\n",
    "output_dir_cat_pdf = Path('../data/output/cat_pdf')\n",
    "log_dir = Path('../data/log')\n",
    "\n",
    "# Importa dados que populam as opções do formulário de inscrição\n",
    "opcoes = usuarios.import_google_spreadsheet(cfg['FORM_INSC_OPCOES']['ID_GSHEET'])\n",
    "\n",
    "# Importa listas de inscrições e cancelamentos e compila lista de usuários ativos\n",
    "inscricoes = usuarios.import_google_spreadsheet(cfg['FORM_INSC']['ID_GSHEET'])\n",
    "cancelamentos = usuarios.import_google_spreadsheet(cfg['FORM_CANCEL']['ID_GSHEET'])\n",
    "inscricoes_compilado = usuarios.compila_inscricoes(df_inscricao=inscricoes, df_cancelamento=cancelamentos)\n",
    "inscricoes_compilado_novos_codigos = usuarios.update_codigos_desativados(inscricoes_compilado, codigos_desativados)\n",
    "\n",
    "# Realiza backup dos dados provenientes dos formulários de inscrição e cancelamento\n",
    "backup_dir = str(root_dir / 'data/backup')\n",
    "\n",
    "backup.backup_csv_new_file(opcoes, directory=backup_dir, filename='opcoes_form_insc.csv')\n",
    "backup.backup_csv(inscricoes, backup_path=os.path.join(backup_dir, 'inscricoes.csv'))\n",
    "backup.backup_csv(cancelamentos, backup_path=os.path.join(backup_dir, 'cancelamentos.csv'))\n",
    "backup.backup_csv(inscricoes_compilado_novos_codigos, backup_path=os.path.join(backup_dir, 'inscricoes_compilado.csv'))"
   ]
  },
  {
   "cell_type": "code",
   "execution_count": 3,
   "metadata": {},
   "outputs": [],
   "source": [
    "# Tenta conectar à VPN\n",
    "vpn.try_connection_forticlient_vpn(vpn_path=cfg['VNP_PATH'],\n",
    "                                    user=secrets['USER'],\n",
    "                                    password=secrets['PASSWORD'],\n",
    "                                    url_test_connection=cfg['VPN_URL_TEST_CONNECTION'])\n",
    "\n",
    "# Importa novas CATs\n",
    "cats = acidentes.cat_extrair()"
   ]
  },
  {
   "cell_type": "code",
   "execution_count": 4,
   "metadata": {},
   "outputs": [],
   "source": [
    "# Trata CATs\n",
    "cat_atribui_fatores_risco_partial = partial(acidentes.cat_atribui_fatores_risco,\n",
    "                                            fatores_params_reshaped=fatores_params_reshaped)\n",
    "\n",
    "functions_list = [acidentes.cat_eliminar_ja_alertadas,\n",
    "                    acidentes.cat_converter_inteiros,\n",
    "                    acidentes.cat_converter_datas,\n",
    "                    acidentes.cat_formatar_horas,\n",
    "                    acidentes.cat_formatar_strings,\n",
    "                    acidentes.cat_cid_uppercase,\n",
    "                    acidentes.cat_novas_colunas,\n",
    "                    acidentes.cat_uorg_local_acidente,\n",
    "                    acidentes.cat_secao_cnae_local_acidente,\n",
    "                    acidentes.cat_formatar_datas,\n",
    "                    acidentes.cat_identifica_recibo_raiz,\n",
    "                    acidentes.cat_mantem_recibo_ultima_reabertura,\n",
    "                    cat_atribui_fatores_risco_partial,\n",
    "                    acidentes.cat_compila_fatores_risco,\n",
    "                    acidentes.cat_atribui_consequencia,\n",
    "                    acidentes.cat_inserir_descricoes\n",
    "                    ]\n",
    "\n",
    "cats_tratadas = reduce(lambda x, y: y(x), functions_list, cats)"
   ]
  },
  {
   "cell_type": "code",
   "execution_count": 5,
   "metadata": {},
   "outputs": [],
   "source": [
    "destinatario = inscricoes_compilado_novos_codigos.iloc[0]"
   ]
  },
  {
   "cell_type": "code",
   "execution_count": 6,
   "metadata": {},
   "outputs": [],
   "source": [
    "funcoes_filtra_cats = [acidentes_filtrar.uf,\n",
    "                       acidentes_filtrar.uorg,\n",
    "                       acidentes_filtrar.tpacid,\n",
    "                       acidentes_filtrar.consequencias,\n",
    "                       acidentes_filtrar.risco,\n",
    "                       acidentes_filtrar.cnae,]\n",
    "\n",
    "funcoes_filtra_cats_partial = [partial(function, usuario=destinatario) for function in funcoes_filtra_cats]\n",
    "\n",
    "cats_filtradas = reduce(lambda x, y: y(x), funcoes_filtra_cats_partial, cats_tratadas)"
   ]
  },
  {
   "cell_type": "code",
   "execution_count": 7,
   "metadata": {},
   "outputs": [],
   "source": [
    "for cat in cats_filtradas.index:\n",
    "    acidentes.cat_to_pdf(cats_filtradas.loc[cat], \n",
    "                         html_template=cat_html_template,\n",
    "                         logo=logo_sit,\n",
    "                         output_dir=output_dir_cat_pdf)"
   ]
  },
  {
   "cell_type": "code",
   "execution_count": 67,
   "metadata": {},
   "outputs": [],
   "source": [
    "def cat_tabela_resumo(df_cat):\n",
    "    alerta_cols = ['meta_nr_recibo', 'Consequencia', 'CDFatorAmbiental', 'ds_municipio_local_acidente', 'sguf_local_acidente',]\n",
    "    df = df_cat[alerta_cols].copy()\n",
    "\n",
    "    df.Consequencia = df.Consequencia.apply(lambda x: '<br>'.join(x))\n",
    "            \n",
    "    def map_fr(lista):\n",
    "        map_fr = pd.read_csv(f'../data/input/aux_tables/fator_risco.csv', dtype='object').set_index('CDFatorAmbiental')['DSFatorAmbiental'].to_dict()\n",
    "        lista_mapped = [f'{elemento} - {map_fr[elemento]}' for elemento in lista]\n",
    "        return  '<br>'.join(lista_mapped)\n",
    "    df['CDFatorAmbiental'] = df['CDFatorAmbiental'].apply(map_fr)\n",
    "    \n",
    "    df[\"Local do Acidente\"] = df[\"ds_municipio_local_acidente\"] + '/' + df[\"sguf_local_acidente\"]\n",
    "    \n",
    "    df = (df\n",
    "          .drop(columns=['ds_municipio_local_acidente', 'sguf_local_acidente'])\n",
    "          .rename(columns={'meta_nr_recibo': 'Número da CAT',\n",
    "                       'Consequencia': 'Consequências',\n",
    "                       'CDFatorAmbiental': 'Fatores de risco'}))\n",
    "    \n",
    "    return df"
   ]
  },
  {
   "cell_type": "code",
   "execution_count": 115,
   "metadata": {},
   "outputs": [],
   "source": [
    "teste_html_template = Path('../data/input/html_templates/alerta_usuario.html')\n",
    "\n",
    "anexos = [output_dir_cat_pdf / f'{cat.meta_nr_recibo}.pdf' for cat in cats_filtradas.itertuples()]\n",
    "\n",
    "cats_resumo_html = cat_tabela_resumo(cats_filtradas).to_html(index=False, escape=False)\n",
    "\n",
    "campos = {'cats': cats_resumo_html,\n",
    "          'uf': destinatario.fillna('-')['UF'],\n",
    "          'uorg': destinatario.fillna('-')['UORG'],\n",
    "          'tpacid': destinatario.fillna('-')['Tipo de acidente'],\n",
    "          'consequencia': destinatario.fillna('-')['Consequência do acidente'],\n",
    "          'setores': destinatario.fillna('-')['Seção CNAE'],\n",
    "          'riscos': destinatario.fillna('-')['Fatores de risco']}\n",
    "\n",
    "msg1 = email_sender.EmailMessageHTML(destinatario=destinatario['E-mail'],\n",
    "                                     sender_email=cfg['SENDER_EMAIL'],\n",
    "                                     assunto='Alerta de acidente de trabalho',\n",
    "                                     template_html= teste_html_template,\n",
    "                                     template_campos=campos,\n",
    "                                     anexos=anexos,\n",
    "                                     imagens=logo_saat)\n",
    "\n",
    "msg1.send(auth_user=secrets['EMAIL'],\n",
    "          password=secrets['PASSWORD'],\n",
    "          smtp_server=cfg['SMPT_SERVER'],\n",
    "          port=cfg['PORT'])"
   ]
  },
  {
   "cell_type": "code",
   "execution_count": 112,
   "metadata": {},
   "outputs": [],
   "source": [
    "inscricoes_compilado_novos_codigos['uf_uorg'] = inscricoes_compilado_novos_codigos.UORG.str.extract(r'^([A-Z]{2})\\s-')\n",
    "inscricoes_compilado_novos_codigos['uf_compilado'] =inscricoes_compilado_novos_codigos.UF.fillna(inscricoes_compilado_novos_codigos.uf_uorg)\n",
    "resumo_inscricoes = (inscricoes_compilado_novos_codigos[['uf_compilado', 'E-mail', 'UORG']]\n",
    "                     .fillna('Todas')\n",
    "                     .sort_values(['uf_compilado', 'UORG', 'E-mail',])\n",
    "                     .rename(columns={'uf_compilado': 'UF'})\n",
    "                     )"
   ]
  },
  {
   "cell_type": "code",
   "execution_count": 113,
   "metadata": {},
   "outputs": [
    {
     "data": {
      "text/html": [
       "<div>\n",
       "<style scoped>\n",
       "    .dataframe tbody tr th:only-of-type {\n",
       "        vertical-align: middle;\n",
       "    }\n",
       "\n",
       "    .dataframe tbody tr th {\n",
       "        vertical-align: top;\n",
       "    }\n",
       "\n",
       "    .dataframe thead th {\n",
       "        text-align: right;\n",
       "    }\n",
       "</style>\n",
       "<table border=\"1\" class=\"dataframe\">\n",
       "  <thead>\n",
       "    <tr style=\"text-align: right;\">\n",
       "      <th></th>\n",
       "      <th>UF</th>\n",
       "      <th>E-mail</th>\n",
       "      <th>UORG</th>\n",
       "    </tr>\n",
       "  </thead>\n",
       "  <tbody>\n",
       "    <tr>\n",
       "      <th>3</th>\n",
       "      <td>GO</td>\n",
       "      <td>rosita.dantas@economia.gov.br</td>\n",
       "      <td>Todas</td>\n",
       "    </tr>\n",
       "    <tr>\n",
       "      <th>2</th>\n",
       "      <td>MG</td>\n",
       "      <td>marcelo.simeao@economia.gov.br</td>\n",
       "      <td>MG - 021904004 - AGÊNCIA DE ATENDIMENTO DE JOAO MONLEVADE/MG</td>\n",
       "    </tr>\n",
       "    <tr>\n",
       "      <th>0</th>\n",
       "      <td>MG</td>\n",
       "      <td>joao.reis@economia.gov.br</td>\n",
       "      <td>Todas</td>\n",
       "    </tr>\n",
       "    <tr>\n",
       "      <th>1</th>\n",
       "      <td>SP</td>\n",
       "      <td>julio.cesar@economia.gov.br</td>\n",
       "      <td>Todas</td>\n",
       "    </tr>\n",
       "  </tbody>\n",
       "</table>\n",
       "</div>"
      ],
      "text/plain": [
       "   UF                          E-mail                                                          UORG\n",
       "3  GO   rosita.dantas@economia.gov.br                                                         Todas\n",
       "2  MG  marcelo.simeao@economia.gov.br  MG - 021904004 - AGÊNCIA DE ATENDIMENTO DE JOAO MONLEVADE/MG\n",
       "0  MG       joao.reis@economia.gov.br                                                         Todas\n",
       "1  SP     julio.cesar@economia.gov.br                                                         Todas"
      ]
     },
     "execution_count": 113,
     "metadata": {},
     "output_type": "execute_result"
    }
   ],
   "source": [
    "resumo_inscricoes"
   ]
  },
  {
   "cell_type": "code",
   "execution_count": 121,
   "metadata": {},
   "outputs": [
    {
     "data": {
      "text/plain": [
       "'Valor colA,Valor colB,Valor colC\\n'"
      ]
     },
     "execution_count": 121,
     "metadata": {},
     "output_type": "execute_result"
    }
   ],
   "source": [
    "log_dict = {'Coluna A': 'Valor colA',\n",
    "            'Coluna B': 'Valor colB',\n",
    "            'Coluna C': 'Valor colC',}\n",
    "[i for i in log_dict.keys()]\n",
    "','.join(log_dict.values()) + \"\\n\""
   ]
  },
  {
   "cell_type": "code",
   "execution_count": null,
   "metadata": {},
   "outputs": [],
   "source": [
    "def append_to_csv(file: str|Path, \n",
    "                  new_line_data: dict):\n",
    "    \n",
    "    cabecalho = ','.join(f'\"{w}\"' for w in new_line_data.keys()) + \"\\n\"\n",
    "    linha = ','.join(f'\"{w}\"' for w in new_line_data.values()) + \"\\n\"\n",
    "\n",
    "    if not os.path.exists(file):\n",
    "        with open(file, mode='w') as csv_file:\n",
    "            csv_file.write(cabecalho + linha)\n",
    "\n",
    "    else:\n",
    "        with open(file) as csv_file:\n",
    "            cabecalho_atual = csv_file.readline()\n",
    "            if cabecalho_atual != cabecalho:\n",
    "                raise ValueError('As colunas não correspondem ao cabeçalho do arquivo indicado.')\n",
    "\n",
    "        with open(file, 'a') as csv_file:\n",
    "            csv_file.write(linha)\n",
    "\n",
    "log_file = 'teste.csv'\n",
    "\n",
    "log_dict = {'Coluna A': 'Valor colA',\n",
    "            'Coluna B': 'Valor colB',\n",
    "            'Coluna C': 'Valor colC',}\n",
    "\n",
    "append_to_csv(log_file, log_dict)"
   ]
  }
 ],
 "metadata": {
  "kernelspec": {
   "display_name": "Python 3.10.5 ('AlertasAT-G283KqNv')",
   "language": "python",
   "name": "python3"
  },
  "language_info": {
   "codemirror_mode": {
    "name": "ipython",
    "version": 3
   },
   "file_extension": ".py",
   "mimetype": "text/x-python",
   "name": "python",
   "nbconvert_exporter": "python",
   "pygments_lexer": "ipython3",
   "version": "3.10.5"
  },
  "orig_nbformat": 4,
  "vscode": {
   "interpreter": {
    "hash": "594fbb03cb51ed77632b7e9e8b85e76cfdbadcf18b91b11bb59aae6cd1e4ee42"
   }
  }
 },
 "nbformat": 4,
 "nbformat_minor": 2
}
